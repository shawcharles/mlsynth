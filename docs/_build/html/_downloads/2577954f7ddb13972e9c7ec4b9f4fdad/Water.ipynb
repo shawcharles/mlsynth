{
  "cells": [
    {
      "cell_type": "markdown",
      "metadata": {},
      "source": [
        "\n# L2 Relaxer\nApplies the l2 relaxer to some Apple Music data. Here we estimate the causal impact of Tyla going viral on the numer of playlists she's on.\n"
      ]
    },
    {
      "cell_type": "code",
      "execution_count": null,
      "metadata": {
        "collapsed": false
      },
      "outputs": [],
      "source": [
        "import pandas as pd\nfrom mlsynth import PDA\nfrom mlsynth.config_models import PDAConfig # Import PDAConfig\nimport matplotlib\n\njared_theme = {\n    \"axes.grid\": False,\n    \"grid.linestyle\": \"-\",\n    \"grid.color\": \"black\",\n    \"legend.framealpha\": 1,\n    \"legend.facecolor\": \"white\",\n    \"legend.shadow\": True,\n    \"legend.fontsize\": 14,\n    \"legend.title_fontsize\": 14,\n    \"xtick.labelsize\": 12,\n    \"ytick.labelsize\": 12,\n    \"axes.labelsize\": 12,\n    \"axes.titlesize\": 14,\n    \"figure.dpi\": 120,\n    \"axes.facecolor\": \"white\",\n    \"figure.figsize\": (11, 4),\n}\n\nmatplotlib.rcParams.update(jared_theme)\n\n\n\nurl = \"https://raw.githubusercontent.com/jgreathouse9/jgreathouse9.github.io/refs/heads/master/Apple%20Music/AppleMusic.csv\"\ndf = pd.read_csv(url)\n\ndf['Date'] = pd.to_datetime(df['Date'], errors='coerce')\n\ndf = df[(df['Date'] >= '2022-01-01') & (df['Date'] <= '2024-12-31')]\n\ndf['Water'] = df.apply(lambda row: 1 if row['Artist'] == 'Tyla' and row['Date'] > pd.to_datetime('2023-08-31') else 0, axis=1)\n\ntreat = \"Water\"\noutcome = \"Playlists\"\nunitid = \"Artist\"\ntime = \"Date\"\n\n# Define the list of artists to exclude\nexcluded_artists = [\"Moonchild Sanelly\", \"Tems\", \"Ayra Starr\", \"Tyla\"]\n\n# Get the list of artists excluding \"Tyla\"\nother_artists = df[~df['Artist'].isin(excluded_artists)]['Artist'].unique().tolist()\n\n# Group by 'Artist' and count the number of observations\nartist_counts = df['Artist'].value_counts()\n\n# Filter the artists with exactly 1096 observations\nartists_to_keep = artist_counts[artist_counts == 1096].index\n\n# Filter the dataframe to keep only those artists\ndf = df[df['Artist'].isin(artists_to_keep)]\n\nconfig = PDAConfig(\n    df=df,\n    treat=treat,\n    time=time,\n    outcome=outcome,\n    unitid=unitid,\n    counterfactual_color=\"blue\",\n    treated_color=\"black\",\n    display_graphs=True,\n    method=\"l2\"\n)\n\nmodel = PDA(config=config)\n\n# SC = model.fit() # Temporarily commented out due to solver error"
      ]
    }
  ],
  "metadata": {
    "kernelspec": {
      "display_name": "Python 3",
      "language": "python",
      "name": "python3"
    },
    "language_info": {
      "codemirror_mode": {
        "name": "ipython",
        "version": 3
      },
      "file_extension": ".py",
      "mimetype": "text/x-python",
      "name": "python",
      "nbconvert_exporter": "python",
      "pygments_lexer": "ipython3",
      "version": "3.12.3"
    }
  },
  "nbformat": 4,
  "nbformat_minor": 0
}