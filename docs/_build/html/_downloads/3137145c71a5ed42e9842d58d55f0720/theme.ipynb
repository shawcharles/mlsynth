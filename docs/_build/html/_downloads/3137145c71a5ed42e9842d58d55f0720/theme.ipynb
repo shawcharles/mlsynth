{
  "cells": [
    {
      "cell_type": "markdown",
      "metadata": {},
      "source": [
        "\nTheme.\n\n=====\ntheme\n"
      ]
    },
    {
      "cell_type": "code",
      "execution_count": null,
      "metadata": {
        "collapsed": false
      },
      "outputs": [],
      "source": [
        "import matplotlib\n\njared_theme = {\n    \"axes.grid\": True,\n    \"grid.linestyle\": \"-\",\n    \"grid.color\": \"black\",\n    \"legend.framealpha\": 1,\n    \"legend.facecolor\": \"white\",\n    \"legend.shadow\": True,\n    \"legend.fontsize\": 14,\n    \"legend.title_fontsize\": 16,\n    \"xtick.labelsize\": 14,\n    \"ytick.labelsize\": 14,\n    \"axes.labelsize\": 16,\n    \"axes.titlesize\": 20,\n    \"figure.dpi\": 100,\n    \"axes.facecolor\": \"#c7d0c9\",\n    \"figure.figsize\": (10, 5.5),\n}\n\nmatplotlib.rcParams.update(jared_theme)"
      ]
    }
  ],
  "metadata": {
    "kernelspec": {
      "display_name": "Python 3",
      "language": "python",
      "name": "python3"
    },
    "language_info": {
      "codemirror_mode": {
        "name": "ipython",
        "version": 3
      },
      "file_extension": ".py",
      "mimetype": "text/x-python",
      "name": "python",
      "nbconvert_exporter": "python",
      "pygments_lexer": "ipython3",
      "version": "3.12.3"
    }
  },
  "nbformat": 4,
  "nbformat_minor": 0
}