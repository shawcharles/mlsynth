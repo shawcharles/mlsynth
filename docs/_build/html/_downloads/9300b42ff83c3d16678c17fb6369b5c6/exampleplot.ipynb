{
  "cells": [
    {
      "cell_type": "markdown",
      "metadata": {},
      "source": [
        "\n# FDID Estimation\nFDID Plot\n"
      ]
    },
    {
      "cell_type": "code",
      "execution_count": null,
      "metadata": {
        "collapsed": false
      },
      "outputs": [],
      "source": [
        "import pandas as pd\nfrom mlsynth import FDID\nfrom mlsynth.config_models import FDIDConfig # Import FDIDConfig\nimport os\n\n# Load the CSV file using pandas\ndf = pd.read_csv('https://raw.githubusercontent.com/jgreathouse9/mlsynth/refs/heads/main/basedata/HongKong.csv')\n\ntreat = \"Integration\"\noutcome = \"GDP\"\nunitid = \"Country\"\ntime = \"Time\"\n\nconfig = FDIDConfig(\n    df=df,\n    treat=treat,\n    time=time,\n    outcome=outcome,\n    unitid=unitid,\n    counterfactual_color=\"blue\",\n    treated_color=\"black\",\n    display_graphs=True\n)\n\nmodel = FDID(config=config)\n\nFMAest = model.fit()"
      ]
    }
  ],
  "metadata": {
    "kernelspec": {
      "display_name": "Python 3",
      "language": "python",
      "name": "python3"
    },
    "language_info": {
      "codemirror_mode": {
        "name": "ipython",
        "version": 3
      },
      "file_extension": ".py",
      "mimetype": "text/x-python",
      "name": "python",
      "nbconvert_exporter": "python",
      "pygments_lexer": "ipython3",
      "version": "3.12.3"
    }
  },
  "nbformat": 4,
  "nbformat_minor": 0
}